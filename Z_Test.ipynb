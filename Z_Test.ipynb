{
  "nbformat": 4,
  "nbformat_minor": 0,
  "metadata": {
    "colab": {
      "provenance": []
    },
    "kernelspec": {
      "name": "python3",
      "display_name": "Python 3"
    },
    "language_info": {
      "name": "python"
    }
  },
  "cells": [
    {
      "cell_type": "code",
      "execution_count": 1,
      "metadata": {
        "colab": {
          "base_uri": "https://localhost:8080/"
        },
        "id": "a2f_EVt9g8ij",
        "outputId": "42144617-3258-413c-b62e-ae48834ee9bc"
      },
      "outputs": [
        {
          "output_type": "stream",
          "name": "stdout",
          "text": [
            "Sample Mean = 100.9\n",
            "Z-Statistic = 0.1897\n",
            "Critical Z-Value = ±1.9600\n",
            "🟩 Result: Do NOT reject the null hypothesis. No significant difference.\n",
            "P-Value = 0.8495\n"
          ]
        }
      ],
      "source": [
        "import math\n",
        "from scipy.stats import norm\n",
        "\n",
        "# Step 1: Known data\n",
        "population_mean = 100\n",
        "population_std_dev = 15\n",
        "sample_data = [102, 98, 101, 97, 105, 100, 103, 99, 100, 104]\n",
        "\n",
        "# Step 2: Sample mean and size\n",
        "sample_mean = sum(sample_data) / len(sample_data)\n",
        "n = len(sample_data)\n",
        "\n",
        "# Step 3: Z statistic\n",
        "z = (sample_mean - population_mean) / (population_std_dev / math.sqrt(n))\n",
        "\n",
        "# Step 4: Significance level and Z critical value\n",
        "alpha = 0.05\n",
        "z_critical = norm.ppf(1 - alpha/2)\n",
        "\n",
        "# Step 5: Decision\n",
        "print(f\"Sample Mean = {sample_mean}\")\n",
        "print(f\"Z-Statistic = {z:.4f}\")\n",
        "print(f\"Critical Z-Value = ±{z_critical:.4f}\")\n",
        "if abs(z) > z_critical:\n",
        "    print(\"🟥 Result: Reject the null hypothesis. There is a significant difference.\")\n",
        "else:\n",
        "    print(\"🟩 Result: Do NOT reject the null hypothesis. No significant difference.\")\n",
        "\n",
        "# Step 6: P-value\n",
        "p_value = 2 * (1 - norm.cdf(abs(z)))\n",
        "print(f\"P-Value = {p_value:.4f}\")\n"
      ]
    },
    {
      "cell_type": "code",
      "source": [
        "import math\n",
        "import pandas as pd\n",
        "from scipy.stats import norm\n",
        "from sklearn.datasets import load_iris\n",
        "\n",
        "#  Load the Iris dataset\n",
        "iris = load_iris()\n",
        "df = pd.DataFrame(iris.data, columns=iris.feature_names)\n",
        "\n",
        "# We'll work with the 'sepal length (cm)'\n",
        "data = df['sepal length (cm)']\n",
        "\n",
        "#  Define population parameters from UCI stats\n",
        "pop_mean = 5.84     # μ\n",
        "pop_std = 0.83      # σ\n",
        "\n",
        "#  Sample statistics\n",
        "sample_mean = data.mean()\n",
        "n = len(data)\n",
        "\n",
        "#  Z-Statistic calculation\n",
        "z = (sample_mean - pop_mean) / (pop_std / math.sqrt(n))\n",
        "\n",
        "#  Choose significance level α\n",
        "alpha = 0.05\n",
        "z_crit = norm.ppf(1 - alpha/2)  # ≈ ±1.96 for 95% confidence\n",
        "\n",
        "#  P-value\n",
        "p_value = 2 * (1 - norm.cdf(abs(z)))\n",
        "\n",
        "#  Reporting\n",
        "print(f\"Sample mean (n={n}): {sample_mean:.4f}\")\n",
        "print(f\"Z-statistic: {z:.4f}\")\n",
        "print(f\"Critical Z-value (±): {z_crit:.4f}\")\n",
        "print(f\"P-value: {p_value:.4f}\")\n",
        "if abs(z) > z_crit:\n",
        "    print(\" Reject H0: mean differs from 5.84 cm\")\n",
        "else:\n",
        "    print(\" Fail to reject H0: no evidence mean differs\")\n"
      ],
      "metadata": {
        "colab": {
          "base_uri": "https://localhost:8080/"
        },
        "id": "ARg8OQbkhBLg",
        "outputId": "3bfc062a-a0c2-4b89-af58-c3335bd9c584"
      },
      "execution_count": 3,
      "outputs": [
        {
          "output_type": "stream",
          "name": "stdout",
          "text": [
            "Sample mean (n=150): 5.8433\n",
            "Z-statistic: 0.0492\n",
            "Critical Z-value (±): 1.9600\n",
            "P-value: 0.9608\n",
            " Fail to reject H0: no evidence mean differs\n"
          ]
        }
      ]
    },
    {
      "cell_type": "code",
      "source": [],
      "metadata": {
        "id": "MlClew-1j_Dk"
      },
      "execution_count": null,
      "outputs": []
    }
  ]
}